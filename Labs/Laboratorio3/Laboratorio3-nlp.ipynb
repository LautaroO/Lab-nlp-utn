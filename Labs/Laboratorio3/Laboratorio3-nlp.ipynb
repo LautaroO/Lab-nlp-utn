{
 "cells": [
  {
   "cell_type": "markdown",
   "metadata": {},
   "source": [
    "<h1>LABORATORIO 3</h1>"
   ]
  },
  {
   "cell_type": "markdown",
   "metadata": {},
   "source": [
    "<h3>Procesando\tTexto\ty\tusando\tscikit-learn</h3>"
   ]
  },
  {
   "cell_type": "markdown",
   "metadata": {},
   "source": [
    "<p><b>1 Procesamiento\tde\ttexto\tbásico\tcon\tSciKit-learn</b></p>"
   ]
  },
  {
   "cell_type": "markdown",
   "metadata": {},
   "source": [
    "SciKit-learn\tes\tuna\tbiblioteca\tde\tPython\tde\tcódigo\tabierto\tpara\tel\taprendizaje\tde\t\n",
    "máquinas que\tviene\tcon\tinstalaciones\tbásicas\tpara\tel\tprocesamiento\tde\ttexto\tpara\t\n",
    "apoyar\tel\tagrupamiento\ty\tclasificación\t- incluyendo\ttokenización,\tconteo\tde\t\n",
    "palabras,\ty\tsteamming\t(obtener\tla\tforma\traíz\tde\tlas\tpalabras).\t\n",
    "En\teste lab\tpráctico\tvamos\ta\trevisar\tbrevemente\tcómo\tutilizar\tSciKit-learn\ten\t\n",
    "Python\t\ty\tluego\tobservar\tcon\tmás\tdetalle\ten\tlas\tinstalaciones\tde\tprocesamiento\t\n",
    "previo."
   ]
  },
  {
   "cell_type": "markdown",
   "metadata": {},
   "source": [
    "<p><b>2.1</b>\tEl\tuso\tde\tSciKit-learn\n",
    "[Esta\tsección\tpuede\tser\tomitido\tpor\taquellos\tde\tustedes\tque\tya\testán\tfamiliarizados\tcon\t\n",
    "la\tbiblioteca]\n",
    "Los\tsitios\tweb\tasociados\tcon\tscikit-learn\tson\n",
    "http://scikit-learn.org/\n",
    "(Sitio\ten\tgeneral,\tdocumentación\ty\t\n",
    "tutoriales,\ty\tmás)\ty\n",
    "https://github.com/scikit-learn/scikitlearn\n",
    "    \n",
    "Descarga/instala\tla\tbiblioteca\tactivando\ttu\tentorno\tConda\ty\tluego:\n",
    "\n",
    "conda install -c anaconda scikit-learn\n",
    "\n",
    "Después\tde\tque\tempezó\tinactivo\to\tlo\tque\tsea\tla\tinterfaz\tque\tprefiera\t\n",
    "(ipython,\tetc),\thaga\tlo\tsiguiente\tpara\tcargar\tscikit-learn\ty\tnumpy en\tPython,\t\n",
    "(>>>\tes\tel\tsímbolo\tdel\treposo):</p>"
   ]
  },
  {
   "cell_type": "code",
   "execution_count": 5,
   "metadata": {},
   "outputs": [],
   "source": [
    "import sklearn\n",
    "import numpy as np   "
   ]
  },
  {
   "cell_type": "markdown",
   "metadata": {},
   "source": [
    "Otro\taspecto\timportante\tdel\tpaquete\tes\tque\tinteractúa\tbien\tcon\tpaquetes\tde\t\n",
    "visualización\tcomo\tpyplot,\tque\tse\tdebe\tcargar:\n",
    "\n",
    "conda install matplotlib\n",
    "\n",
    "Ahora\tdesde python:"
   ]
  },
  {
   "cell_type": "code",
   "execution_count": 1,
   "metadata": {},
   "outputs": [],
   "source": [
    "import matplotlib.pyplot as plt"
   ]
  },
  {
   "cell_type": "markdown",
   "metadata": {},
   "source": [
    "A\tcontinuación,\tdebe\tcrear\talgunos\tdatos\tpara\tvisualizar\t– ej.,\tuna\tmatriz\t\n",
    "bidimensional\tque\trepresenta\tuna\tfunción:"
   ]
  },
  {
   "cell_type": "code",
   "execution_count": 6,
   "metadata": {},
   "outputs": [],
   "source": [
    "data = np.array([[1,2], [2,3], [3,4], [4,5], [5,6]])\n",
    "\n",
    "x = data[:,0]\n",
    "\n",
    "y= data[:,1]"
   ]
  },
  {
   "cell_type": "markdown",
   "metadata": {},
   "source": [
    "Ahora\tpuede\tvisualizar\tla\tfunción\tde\tla\tsiguiente\tmanera:"
   ]
  },
  {
   "cell_type": "code",
   "execution_count": 10,
   "metadata": {},
   "outputs": [
    {
     "data": {
      "image/png": "[encoded data removed]",
      "text/plain": [
       "<Figure size 432x288 with 1 Axes>"
      ]
     },
     "metadata": {
      "needs_background": "light"
     },
     "output_type": "display_data"
    }
   ],
   "source": [
    "plt.scatter(x,y)\n",
    "plt.grid(True)\n",
    "plt.show()"
   ]
  },
  {
   "cell_type": "markdown",
   "metadata": {},
   "source": [
    "<p><b>2.2</b> Preprocesamiento\tde\tTexto\tcon\tSciKit-learn\n",
    "Muchas\tde\tlas\taplicaciones\tde\tanálisis\tde\ttexto\tque\tvamos\ta\tconsiderar\trequerir\t\n",
    "tomar\tun\ttexto\t(por\tejemplo,\tun\tpost),\ttokenizar,\ty\tutilizando\tlos\ttokens\tcomo\t\n",
    "features,\tposiblemente\tdespués\tde\tla\teliminación\tde\tpalabras\tcon\tlematización\t/\t\n",
    "stops\twords.\tCon\tSciKit-learn\tno\tnecesitamos\tescribir\tcódigo\tpara\thacer\teso;\t\n",
    "podemos\tutilizar\tla\tclase\tCountVectorizer\ten\tsu\tlugar.\tUna\tinstancia\tde\tla\tclase\t\n",
    "se\tcrea\tde\tla\tsiguiente\tmanera:</p>"
   ]
  },
  {
   "cell_type": "code",
   "execution_count": 13,
   "metadata": {},
   "outputs": [],
   "source": [
    "from sklearn.feature_extraction.text import CountVectorizer \n",
    "\n",
    "vectorizer = CountVectorizer(min_df=1)"
   ]
  },
  {
   "cell_type": "markdown",
   "metadata": {},
   "source": [
    "Una\tvez\tque\themos\tcreado\tla\tinstancia,\tpodemos\tutilizarlo\tpara\textraer\tuna\tbolsa\tde\tpalabras\n",
    "la\trepresentación\tde\tuna\tcolección\tde\tdocumentos\tutilizando\tel\tmétodo\tscikit-learn\n",
    "fit_transform.\tEn\teste\tprimer\tejemplo\tde\tprueba,\tusamos\tuna\tlista\tde\tcadenas\tcomo\t\n",
    "documentos,\tde\tla\tsiguiente\tmanera:"
   ]
  },
  {
   "cell_type": "code",
   "execution_count": 14,
   "metadata": {},
   "outputs": [],
   "source": [
    "content = [\"How to format my hard disk\", \" Hard disk format problems \"]\n",
    "X = vectorizer.fit_transform(content)"
   ]
  },
  {
   "cell_type": "markdown",
   "metadata": {},
   "source": [
    "fit_transform ha\textraído\tsiete\tcaracterísticas\tde\tlos\tdos\t“documentos”; podemos\tver\teso\tcon\tel\tmétodo\tget_feature_names()."
   ]
  },
  {
   "cell_type": "code",
   "execution_count": 16,
   "metadata": {},
   "outputs": [
    {
     "data": {
      "text/plain": [
       "['disk', 'format', 'hard', 'how', 'my', 'problems', 'to']"
      ]
     },
     "execution_count": 16,
     "metadata": {},
     "output_type": "execute_result"
    }
   ],
   "source": [
    " vectorizer.get_feature_names()"
   ]
  },
  {
   "cell_type": "markdown",
   "metadata": {},
   "source": [
    "Se\tpuede\tver\tcuántas\tveces\tcada\tuna\tde\testas\tsiete\tfeatures se\tproduce\ten\tlos\tdos\tdocumentos\thaciendo:"
   ]
  },
  {
   "cell_type": "code",
   "execution_count": 18,
   "metadata": {},
   "outputs": [
    {
     "data": {
      "text/plain": [
       "array([[1, 1, 1, 1, 1, 0, 1],\n",
       "       [1, 1, 1, 0, 0, 1, 0]], dtype=int64)"
      ]
     },
     "execution_count": 18,
     "metadata": {},
     "output_type": "execute_result"
    }
   ],
   "source": [
    "X.toarray()"
   ]
  },
  {
   "cell_type": "markdown",
   "metadata": {},
   "source": [
    "Tenga\ten\tcuenta\tque\testa\tllamada\tdevuelve\tuna\tmatriz\tde\tdos\tfilas,\tuna\tpor\t\n",
    "\"documentos\".\tCada\tfila\tde\tsiete\telementos.\tCada\telemento\tespecifica\tel\tnúmero\t\n",
    "de\telementos\tde\tuna\tdeterminada\tfeature\tse\tprodujo\ten\tese\tdocumento.\t\n",
    "Entonces:"
   ]
  },
  {
   "cell_type": "code",
   "execution_count": 19,
   "metadata": {},
   "outputs": [
    {
     "data": {
      "text/plain": [
       "array([1, 1, 1, 1, 1, 0, 1], dtype=int64)"
      ]
     },
     "execution_count": 19,
     "metadata": {},
     "output_type": "execute_result"
    }
   ],
   "source": [
    "X.toarray()[0]"
   ]
  },
  {
   "cell_type": "markdown",
   "metadata": {},
   "source": [
    "nos\tda\tel\tvector\tsolo\tpara\tel\tprimer\tdocumento\t(“How to format my hard disk\"),\n",
    "que\tcontiene\ttodas\tlas\tpalabras\telegidas\tcomo\tlas\tfunciones,\texcepto\tpara\tlos\t\n",
    "'problemas'.\tEn\ttanto:"
   ]
  },
  {
   "cell_type": "code",
   "execution_count": 22,
   "metadata": {},
   "outputs": [
    {
     "data": {
      "text/plain": [
       "1"
      ]
     },
     "execution_count": 22,
     "metadata": {},
     "output_type": "execute_result"
    }
   ],
   "source": [
    "X.toarray()[1,2]"
   ]
  },
  {
   "cell_type": "markdown",
   "metadata": {},
   "source": [
    "nos\tda\tel\tnúmero\tde\tveces\tque\tla\tpalabra\t‘hard’ que\tocurre\ten\tel\tsegundo\tdocumento.\n",
    "CountVectorizer\ttiene\tuna\tserie\tde\topciones\tmuy\tútiles,\tque\tse\tdetallan\ten\tla\tpágina:\n",
    "http://scikitlearn.org/stable/modules/generated/sklearn.feature_extraction.text.CountVectorizer.ht\n",
    "ml"
   ]
  },
  {
   "cell_type": "markdown",
   "metadata": {},
   "source": [
    "<p><b>Veamos\tahora\tcómo\tfunciona\testo\tcon\tuna\tverdadera\tcolección\tde\tdocumentos.</b>\t\n",
    "Vamos\ta\tutilizar\tlos\tdatos\tdel\tdataset\t‘20\tNewsgroups’,\tque\tes\tuna\tcolección\tde\t\n",
    "alrededor\tde\t20.000\tdocumentos\tprocedentes\tde\t20\tgrupos\tde\tnoticias\tdiferentes,\tque\t\n",
    "se\tutiliza\tcomúnmente\ten\texperimentos\tde\tclasificación\tde\ttexto\ty\tla\tagrupación\tde\t\n",
    "texto.\t\n",
    "El\tset\tde\tdatos\tse\tpuede\tencontrar\ten:\n",
    "http://qwone.com/~jason/20Newsgroups/\n",
    "Pero\tya\testá\tincluido\ten\tscikit-learn\ty\tse\tpuede\tcargar\ten\tPython\thaciendo:</p>"
   ]
  },
  {
   "cell_type": "code",
   "execution_count": 23,
   "metadata": {},
   "outputs": [],
   "source": [
    "from sklearn.datasets import fetch_20newsgroups"
   ]
  },
  {
   "cell_type": "markdown",
   "metadata": {},
   "source": [
    "Para\tacelerar\tlas\tcosas,\ten\tel\tresto\tdel\tlaboratorio\tsólo\tutilizaremos\tun\tsubconjunto\t\n",
    "de\tlos\tdocumentos,\tlos\tque\tpertenecen\ta\tlas\tsiguientes\t4\tcategorías:"
   ]
  },
  {
   "cell_type": "code",
   "execution_count": 24,
   "metadata": {},
   "outputs": [],
   "source": [
    "categories = ['alt.atheism', 'soc.religion.christian', 'comp.graphics',\n",
    "'sci.med']"
   ]
  },
  {
   "cell_type": "markdown",
   "metadata": {},
   "source": [
    "Podemos\timportar\tlos\tdocumentos\tpertenecientes\ta\tlas\tcategorías\tde\tla\tsiguiente\t\n",
    "manera:\n"
   ]
  },
  {
   "cell_type": "code",
   "execution_count": 25,
   "metadata": {},
   "outputs": [
    {
     "name": "stderr",
     "output_type": "stream",
     "text": [
      "Downloading 20news dataset. This may take a few minutes.\n",
      "Downloading dataset from https://ndownloader.figshare.com/files/5975967 (14 MB)\n"
     ]
    }
   ],
   "source": [
    "twenty_train = fetch_20newsgroups(subset='train', categories=categories,shuffle=True, random_state=42)"
   ]
  },
  {
   "cell_type": "markdown",
   "metadata": {},
   "source": [
    "(La\tprimera\tvez\tque\tse\thace\testo,\tse\tva\ta\ttomar\tun\ttiempo,\tno\tte preocupes.\tTambién\tes\tposible\tque\tpuedas\trecibir\tun mensaje\tde\talerta\tacerca\tde\tno\tencontrar\tlos\tcontroladores,\tignoralo)\t\n",
    "Los\tarchivos\than\tsido\tcargados\ten\tel\tatributo\t‘data’\tdel\tobjeto\ttwenty_train\n",
    "\n",
    "Vamos\tahora\ta\tcrear\tun\tnuevo\tobjeto\tCountVectorizer:"
   ]
  },
  {
   "cell_type": "code",
   "execution_count": 26,
   "metadata": {},
   "outputs": [],
   "source": [
    "vectorizer = CountVectorizer()"
   ]
  },
  {
   "cell_type": "markdown",
   "metadata": {},
   "source": [
    "Una\tvez\tmás,\tla función fit_transform\tse\tpuede\tutilizar\tpara\ttokenizar\tcada\tdocumento,\tidentificar\tlas\tpalabras\tmás\trelevantes,\tconstruir\tun\tdiccionario\tde\ttales\tpalabras,\ty\tcrear\tpara\tcada\tdocumento\tuna\trepresentación\tvectorial\ten\tel\tque\tlas\tpalabras\tson\tlas\tfeatures y\tel\tvalor\tde\testas\tcaracterísticas\tes\tel\tnúmero\tde\tocurrencias de\tcada\tpalabra\ten\tun\tdocumento.\n",
    "\n",
    "Al\tigual\tque\ten\tel\tejemplo\tde\tprueba\tanterior:"
   ]
  },
  {
   "cell_type": "code",
   "execution_count": 27,
   "metadata": {},
   "outputs": [],
   "source": [
    "train_counts = vectorizer.fit_transform(twenty_train.data)"
   ]
  },
  {
   "cell_type": "markdown",
   "metadata": {},
   "source": [
    "Por\tejemplo,\tsi\tahora\tqueremos\tver\tla\tfrecuencia\tde la\tpalabra\t'algorithm'\tse\tproduce\ten\tel\tsubconjunto\tde\tla colección\t20 Newgroups\testamos\tconsiderando\tla\tsiguiente\tmanera:"
   ]
  },
  {
   "cell_type": "code",
   "execution_count": 28,
   "metadata": {},
   "outputs": [
    {
     "data": {
      "text/plain": [
       "4690"
      ]
     },
     "execution_count": 28,
     "metadata": {},
     "output_type": "execute_result"
    }
   ],
   "source": [
    "vectorizer.vocabulary_.get('algorithm')"
   ]
  },
  {
   "cell_type": "markdown",
   "metadata": {},
   "source": [
    "Qué\tfrecuencia\tes\tla\tque\tobtuviste?\n",
    "\n",
    "RTA: 4690\n",
    "\n",
    "Para\tver\tcuántos\ttérminos\tfueron\textraídos,\tpodemos\tutilizar\tget_feature_names\t()\n",
    "que\themos\tvisto\tanteriormente:"
   ]
  },
  {
   "cell_type": "code",
   "execution_count": 29,
   "metadata": {},
   "outputs": [
    {
     "data": {
      "text/plain": [
       "35788"
      ]
     },
     "execution_count": 29,
     "metadata": {},
     "output_type": "execute_result"
    }
   ],
   "source": [
    "len(vectorizer.get_feature_names())"
   ]
  },
  {
   "cell_type": "markdown",
   "metadata": {},
   "source": [
    "La\tclase\tCountVectorizer\t\tde\tSciKit-learn\t puede\thacer\tmás\tprocesamiento\tprevio\tde\tuna\tcolección\tde\tdocumentos\tque\tsimples tokenizaciones.\t\n",
    "Una\timportante\tetapa\tde\tpreprocesamiento\tadicional\tde\tque\tla\tclase\tpuede\tllevar\ta\tcabo\tes\tla\teliminacióde\tstop\twords.\t\n",
    "Esto\tse\tpuede\thacer\tmediante\tla\tespecificación\tde\tun\tparámetros\tde\tCountVectorizer, como\tsigue:\n"
   ]
  },
  {
   "cell_type": "code",
   "execution_count": 32,
   "metadata": {},
   "outputs": [],
   "source": [
    "vectorizer = CountVectorizer (stop_words = 'english')"
   ]
  },
  {
   "cell_type": "markdown",
   "metadata": {},
   "source": [
    "(Pista:\tsi\tponen\t‘spanish’\tconsiderará\tlas\tstop\twords o\tpalabras\tmás\tcomunes\ty\tpuntuaciones\tdel\tespañol,\tyasí\tcon\totros\tidiomas)\n",
    "\n",
    "Para\tver\tqué\tpalabras\tson\tpalabras\tstop\twords,\thace\tlo\tsiguiente:"
   ]
  },
  {
   "cell_type": "code",
   "execution_count": 33,
   "metadata": {},
   "outputs": [
    {
     "data": {
      "text/plain": [
       "['a',\n",
       " 'about',\n",
       " 'above',\n",
       " 'across',\n",
       " 'after',\n",
       " 'afterwards',\n",
       " 'again',\n",
       " 'against',\n",
       " 'all',\n",
       " 'almost',\n",
       " 'alone',\n",
       " 'along',\n",
       " 'already',\n",
       " 'also',\n",
       " 'although',\n",
       " 'always',\n",
       " 'am',\n",
       " 'among',\n",
       " 'amongst',\n",
       " 'amoungst']"
      ]
     },
     "execution_count": 33,
     "metadata": {},
     "output_type": "execute_result"
    }
   ],
   "source": [
    "sorted(vectorizer.get_stop_words())[:20]"
   ]
  },
  {
   "cell_type": "markdown",
   "metadata": {},
   "source": [
    "Para\thacer\tsteamming\t(tener\tla\tpalabra\traíz)\ty un pre-procesamiento\tmás\tavanzado,\tnecesitamos\tcomplementar\tSciKit-learn\tcon\totra\tbiblioteca\tde\tpython,\tNLTK.\t"
   ]
  },
  {
   "cell_type": "markdown",
   "metadata": {},
   "source": [
    "<p><b>3.</b>\tPre-procesamiento\tmás\tavanzado\tcon\tNLTK\n",
    "\n",
    "NLTK\tes\tuna\tbiblioteca\tde\tPython\tde\tcódigo\tabierto que\tya\tusamos\ten\tlos\tLabs\t anteriores disponible\ten:\n",
    "http://www.nltk.org.\n",
    "\n",
    "NLKT\tes\tcompatible\tcon\tla\tmayoría\tde\tlos\ttipos\tde\tprocesamiento previo,\tdesde\tPOS\ttagging\tpara\tfragmentar,\tpara Inglés. También\tviene\tcon\tvarios\trecursos\tútiles\tcomo\tcorpus\ty\tel\tléxico.\n",
    "\n",
    "NLTK\tse\tdescribe\ten\tdetalle\ten\tun\tlibro\tde\tBird,\tKlein\ty\tLoper\tdisponible\ten\tlínea:\n",
    "http://www.nltk.org/book/ la\tversión\tpara\tPython\t3.\n",
    "\n",
    "NLTK\tes\tuna\tbiblioteca\tenorme,\tmucho\tmás\tgrande\tque\tSciKit-learn\tde\thecho,\tya\tque\tcontiene\ttambién\tsu\tpropia\n",
    "implementación\tde\tmuchos\talgoritmos\tde\taprendizaje\tautomático.\t\n",
    "\n",
    "Cómo\taclaramos\ten\tclase,\tsólo\tvamos\ta\ttratar\tacá\ten\teste\tcurso\tde\tsus\t\n",
    "funcionalidades.\n",
    "\n",
    "</p>"
   ]
  },
  {
   "cell_type": "code",
   "execution_count": 34,
   "metadata": {},
   "outputs": [],
   "source": [
    "import nltk"
   ]
  },
  {
   "cell_type": "markdown",
   "metadata": {},
   "source": [
    "El\tsteamming\ten\t NLTK incluye\timplementaciones\tde\tvarios algoritmosmuy\tconocidos y\tutilizados, incluyendo\tel\tPorter\tStemmer\ty\tel\tLancasterStemmer.\t(Ver http://www.nltk.org/howto/stem.html para\tuna\tintroducción\tgeneral\ty http://www.nltk.org/api/nltk.stem.html\t\tpara\tmás\tdetalles,\tincluyendo\tlos\tidiomas\tcubiertos)"
   ]
  },
  {
   "cell_type": "markdown",
   "metadata": {},
   "source": [
    "Para\tcrear\tun steammer\tde\tInglés\t\ttiene\tque\thacer\tlo siguiente:"
   ]
  },
  {
   "cell_type": "code",
   "execution_count": 35,
   "metadata": {},
   "outputs": [],
   "source": [
    " s = nltk.stem.SnowballStemmer('english')"
   ]
  },
  {
   "cell_type": "markdown",
   "metadata": {},
   "source": [
    "Después\tde\tcrear\tel\tsteammer,\ta\tcontinuación,\tpuede\tutilizarlo\tpara\tllevar\ta\tla\traíz\t(steam) palabras de\tla\tsiguiente\tmanera:"
   ]
  },
  {
   "cell_type": "code",
   "execution_count": 36,
   "metadata": {},
   "outputs": [
    {
     "data": {
      "text/plain": [
       "'cat'"
      ]
     },
     "execution_count": 36,
     "metadata": {},
     "output_type": "execute_result"
    }
   ],
   "source": [
    "s.stem(\"cats\")"
   ]
  },
  {
   "cell_type": "code",
   "execution_count": 37,
   "metadata": {},
   "outputs": [
    {
     "data": {
      "text/plain": [
       "'love'"
      ]
     },
     "execution_count": 37,
     "metadata": {},
     "output_type": "execute_result"
    }
   ],
   "source": [
    "s.stem(\"loving\")"
   ]
  },
  {
   "cell_type": "markdown",
   "metadata": {},
   "source": [
    "Otros\ttipos\tde\tpre-procesamiento\tde\tNLTK\tincluye\timplementaciones\tde\tmuchos\tde\tlos\tmódulos\tde\tprocesamiento previo\ty\tanalizadores\tsintácticos\tque\tdiscutimos\to\tdiscutiremos\ten\tlas clases:\n",
    "- identificadores\tde\tidioma\n",
    "- tokenizers\tpara\tvarios\tidiomas\n",
    "- divisores\tde\toraciones\n",
    "- POS\ttaggers\n",
    "- Chunkers\n",
    "- Parsers\n",
    "\n",
    "Además,\tNLTK\tincluye\timplementaciones\tde\tlos\taspectos\tdel\tanálisis\tde\ttexto\t\n",
    "que\tvamos\ta\tdiscutir\ten\teste\tmódulo,\tincluyendo\n",
    "- NER\t(Named\tEntity\tRecognition)\n",
    "- Análisis\tde\tlos\tsentimientos\n",
    "- Extraer\tinformación\tde\tlos\tmedios\tde\tredes sociales.\n",
    "Por\tejemplo,\tlas\tinstrucciones\tsiguientes\t(\tpuede\tque\ttengas que\tdescargar\tel\tpaquete\t NLTK\t'punkt'\tpara\thacer\testo)"
   ]
  },
  {
   "cell_type": "markdown",
   "metadata": {},
   "source": [
    "Por\tejemplo,\tlas\tinstrucciones\tsiguientes\t(\tpuede\tque\ttengas que\tdescargar\tel\tpaquete\t NLTK\t'punkt'\tpara\thacer\testo)"
   ]
  },
  {
   "cell_type": "code",
   "execution_count": 45,
   "metadata": {},
   "outputs": [],
   "source": [
    "from nltk.tokenize import word_tokenize\n",
    "\n",
    "# nltk.download('punkt') #if not used nltk.download()\n",
    "\n",
    "text = word_tokenize(\"And now for something completely different\")\n"
   ]
  },
  {
   "cell_type": "markdown",
   "metadata": {},
   "source": [
    "producir\tuna\tversión\ttokenizada\tde\tla\tfrase,\tque\tluego\tpuede\tser\talimentado\ten\tel\tetiquetador\tPOS\t(\tpuede\tque tenga\tque\tdescargar\tel\tpaquete\t'\tmaxent_...'\tpara\thacer\testo)"
   ]
  },
  {
   "cell_type": "code",
   "execution_count": 44,
   "metadata": {},
   "outputs": [],
   "source": [
    "# nltk.download('averaged_perceptron_tagger')\n",
    "# nltk.download('maxent_treebank_pos_tagger')\n",
    "# nltk.pos_tag(text)\n"
   ]
  },
  {
   "cell_type": "markdown",
   "metadata": {},
   "source": [
    "<p><b>4.\tLa\tintegración\tel\tsteammer\tde\tNLTK\tcon\tel\tCountVectorizer\tde\tSciKit-learn</b>\n",
    "\n",
    "El\tsteammer\tde\tNLTK\tpuede\tser\tutilizado\tantes\tde\tla\talimentación\ten\tCountVectorizer\tde SciKit-learn,\tobteniendo\tasí\tun\tíndice\tmás\tcompacto.\t\n",
    "\n",
    "Una\tforma\tde\thacer\testo\tes\tdefinir\tuna\tnueva\tclase\tStemmedCountVectorizerExtendiendo\tde CountVectorizer\ty\tredefiniendo\tel\tmétodo\tbuild_analyzer\t() que\tse\tencarga\tde\tpre-procesamiento\ty\ttokenización:\n",
    "http://scikit-learn.org/stable/modules/generated/sklearn.feature_extraction.text.CountVectorizer.html\n",
    "\n",
    "build_analyzer()\ttoma\tun\tstring\tcomo\tentrada\ty\tcomo\tsalida\tuna\tlista\tde\ttokens:\n",
    "\n",
    "\n",
    "</p>"
   ]
  },
  {
   "cell_type": "code",
   "execution_count": 47,
   "metadata": {},
   "outputs": [
    {
     "data": {
      "text/plain": [
       "['john', 'bought', 'carrots', 'potatoes']"
      ]
     },
     "execution_count": 47,
     "metadata": {},
     "output_type": "execute_result"
    }
   ],
   "source": [
    "from sklearn.feature_extraction.text import CountVectorizer\n",
    "vectorizer = CountVectorizer(stop_words='english')\n",
    "analyze = vectorizer.build_analyzer()\n",
    "analyze(\"John bought carrots and potatoes\")"
   ]
  },
  {
   "cell_type": "markdown",
   "metadata": {},
   "source": [
    "Si\t modificamos\tbuild_analyzer\t()\tpara\taplicar\t\tel\tsteammer\tde\tNLTK\ta\tla\tsalida\tdel\tmétodo\tbuild_analyzer\t(),\tobtenemos\tuna\tversión\tque\tderiva\tasí:"
   ]
  },
  {
   "cell_type": "code",
   "execution_count": 50,
   "metadata": {},
   "outputs": [],
   "source": [
    "import nltk.stem\n",
    "english_stemmer = nltk.stem.SnowballStemmer('english')\n",
    "class StemmedCountVectorizer(CountVectorizer):\n",
    "    def build_analyzer(self):\n",
    "        analyzer = super(StemmedCountVectorizer, self).build_analyzer()\n",
    "        return lambda doc: (english_stemmer.stem(w) for w in analyzer(doc)) "
   ]
  },
  {
   "cell_type": "markdown",
   "metadata": {},
   "source": [
    "Ahora\tPodemos\tcrear\tuna\tinstancia\tde\tnuestra\tclase!\t"
   ]
  },
  {
   "cell_type": "code",
   "execution_count": 51,
   "metadata": {},
   "outputs": [],
   "source": [
    "stem_vectorizer = StemmedCountVectorizer(min_df=1, stop_words='english')\n",
    "stem_analyze = stem_vectorizer.build_analyzer()"
   ]
  },
  {
   "cell_type": "markdown",
   "metadata": {},
   "source": [
    "como\tse\tpuede\tver,\testos\tnuevos\tusos\tVectorizer\tsurgieron\tversiones\tde\tfichas:"
   ]
  },
  {
   "cell_type": "code",
   "execution_count": 52,
   "metadata": {},
   "outputs": [
    {
     "name": "stdout",
     "output_type": "stream",
     "text": [
      "john\n",
      "bought\n",
      "carrot\n",
      "potato\n"
     ]
    }
   ],
   "source": [
    "Y = stem_analyze(\"John bought carrots and potatoes\")\n",
    "for tok in Y: print(tok)"
   ]
  },
  {
   "cell_type": "markdown",
   "metadata": {},
   "source": [
    "Si utilizamos este Vectorizer para extraer features para el subconjunto del \n",
    "dataset 20_Newsgroups que consideramos antes, vamos a tener un menor \n",
    "número de features:"
   ]
  },
  {
   "cell_type": "code",
   "execution_count": 54,
   "metadata": {},
   "outputs": [
    {
     "data": {
      "text/plain": [
       "26888"
      ]
     },
     "execution_count": 54,
     "metadata": {},
     "output_type": "execute_result"
    }
   ],
   "source": [
    "from sklearn.datasets import fetch_20newsgroups\n",
    "\n",
    "categories = ['alt.atheism','soc.religion.christian','comp.graphics', 'sci.med']\n",
    "\n",
    "twenty_train = fetch_20newsgroups(subset='train', categories=categories, shuffle=True,random_state=42)\n",
    "\n",
    "train_counts = stem_vectorizer.fit_transform(twenty_train.data) \n",
    "\n",
    "len(stem_vectorizer.get_feature_names())"
   ]
  },
  {
   "cell_type": "markdown",
   "metadata": {},
   "source": [
    "(Compará\teste\tnúmero\tcon\tlos\talrededor\tde\t35.000\tcaracterísticas\tque\themos\tobtenido\t\n",
    "usando la versión sin hacer steam).\n",
    "\n"
   ]
  },
  {
   "cell_type": "markdown",
   "metadata": {},
   "source": [
    "Subir a tu github una implementación personalizada de NLTK para CountVectorizer que haga steam y stopwords del idioma español y dos ejemplos de oraciones usando tu clase.\n",
    "\n",
    "También importá un corpus como 20_Newsdataset pero que esté en español. Qué\n",
    "corpus poner, queda a tu criterio! "
   ]
  }
 ],
 "metadata": {
  "kernelspec": {
   "display_name": "Python 3",
   "language": "python",
   "name": "python3"
  },
  "language_info": {
   "codemirror_mode": {
    "name": "ipython",
    "version": 3
   },
   "file_extension": ".py",
   "mimetype": "text/x-python",
   "name": "python",
   "nbconvert_exporter": "python",
   "pygments_lexer": "ipython3",
   "version": "3.7.4"
  }
 },
 "nbformat": 4,
 "nbformat_minor": 2
}
